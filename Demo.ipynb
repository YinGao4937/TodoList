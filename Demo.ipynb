{
  "nbformat": 4,
  "nbformat_minor": 0,
  "metadata": {
    "colab": {
      "name": "Demo",
      "version": "0.3.2",
      "provenance": [],
      "collapsed_sections": [],
      "toc_visible": true,
      "include_colab_link": true
    },
    "language_info": {
      "codemirror_mode": {
        "name": "ipython",
        "version": 3
      },
      "file_extension": ".py",
      "mimetype": "text/x-python",
      "name": "python",
      "nbconvert_exporter": "python",
      "pygments_lexer": "ipython3",
      "version": "3.6.6"
    },
    "kernelspec": {
      "name": "python3",
      "display_name": "Python 3"
    },
    "accelerator": "GPU"
  },
  "cells": [
    {
      "cell_type": "markdown",
      "metadata": {
        "id": "view-in-github",
        "colab_type": "text"
      },
      "source": [
        "<a href=\"https://colab.research.google.com/github/YinGao4937/TodoList/blob/master/Demo.ipynb\" target=\"_parent\"><img src=\"https://colab.research.google.com/assets/colab-badge.svg\" alt=\"Open In Colab\"/></a>"
      ]
    },
    {
      "cell_type": "code",
      "metadata": {
        "id": "yZbI1ktglTIq",
        "colab_type": "code",
        "colab": {}
      },
      "source": [
        "%matplotlib inline"
      ],
      "execution_count": 0,
      "outputs": []
    },
    {
      "cell_type": "code",
      "metadata": {
        "id": "8a8KiHMfnGX6",
        "colab_type": "code",
        "colab": {}
      },
      "source": [
        "import torch"
      ],
      "execution_count": 0,
      "outputs": []
    },
    {
      "cell_type": "code",
      "metadata": {
        "id": "vVOxOt5fnRml",
        "colab_type": "code",
        "colab": {
          "base_uri": "https://localhost:8080/",
          "height": 204
        },
        "outputId": "ac0fe75c-3153-4d8a-a24a-8adba67e054a"
      },
      "source": [
        "!ls /proc"
      ],
      "execution_count": 4,
      "outputs": [
        {
          "output_type": "stream",
          "text": [
            "1\t   cmdline\tfs\t     kpagecount    partitions\t  thread-self\n",
            "117\t   config.gz\tinterrupts   kpageflags    schedstat\t  timer_list\n",
            "125\t   consoles\tiomem\t     loadavg\t   scsi\t\t  tty\n",
            "191\t   cpuinfo\tioports      locks\t   self\t\t  uptime\n",
            "237\t   crypto\tirq\t     meminfo\t   slabinfo\t  version\n",
            "25\t   devices\tkallsyms     misc\t   softirqs\t  vmallocinfo\n",
            "9\t   diskstats\tkcore\t     modules\t   stat\t\t  vmstat\n",
            "acpi\t   dma\t\tkeys\t     mounts\t   swaps\t  zoneinfo\n",
            "buddyinfo  driver\tkey-users    mtrr\t   sys\n",
            "bus\t   execdomains\tkmsg\t     net\t   sysrq-trigger\n",
            "cgroups    filesystems\tkpagecgroup  pagetypeinfo  sysvipc\n"
          ],
          "name": "stdout"
        }
      ]
    },
    {
      "cell_type": "code",
      "metadata": {
        "id": "Ba5Oo278ntcP",
        "colab_type": "code",
        "colab": {}
      },
      "source": [
        ""
      ],
      "execution_count": 0,
      "outputs": []
    }
  ]
}